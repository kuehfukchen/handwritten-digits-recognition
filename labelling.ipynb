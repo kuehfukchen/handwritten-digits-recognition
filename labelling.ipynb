{
 "cells": [
  {
   "attachments": {},
   "cell_type": "markdown",
   "metadata": {},
   "source": [
    "### Last digit of the name in label data is the target label "
   ]
  },
  {
   "cell_type": "code",
   "execution_count": null,
   "metadata": {},
   "outputs": [],
   "source": [
    "import os"
   ]
  },
  {
   "cell_type": "code",
   "execution_count": null,
   "metadata": {},
   "outputs": [],
   "source": [
    "nums = os.listdir('data')\n",
    "nums = [os.path.splitext(s)[0][-1] for s in nums]\n",
    "import pandas as pd\n",
    "nums = pd.DataFrame(nums)\n",
    "print(len(os.listdir('data')))\n",
    "nums.value_counts()"
   ]
  },
  {
   "cell_type": "code",
   "execution_count": null,
   "metadata": {},
   "outputs": [],
   "source": [
    "# import cv2\n",
    "# import skimage\n",
    "# import matplotlib.pyplot as plt\n",
    "# from utils import *\n",
    "# digits = []\n",
    "# labels = []\n",
    "# rel_dir = 'raw label'\n",
    "# for filename in os.listdir(rel_dir)[:]:\n",
    "#     img = cv2.imread(os.path.join(rel_dir, filename))\n",
    "#     img = cv2.cvtColor(img, cv2.COLOR_BGR2GRAY)\n",
    "    \n",
    "#     img = cv2.resize(img, (100,100))\n",
    "#     img = unpad(img, 15)\n",
    "#     img = cv2.resize(img, (28,28))\n",
    "#     digits.append(img)\n",
    "#     labels.append(os.path.splitext(filename)[0][-1])\n",
    "# save_label_digit(digits, labels)\n",
    "# display_digits_line(digits,labels, '', len(labels))"
   ]
  },
  {
   "cell_type": "code",
   "execution_count": null,
   "metadata": {},
   "outputs": [],
   "source": [
    "from utils import *\n",
    "import cv2\n",
    "rel_dir = 'raw image'\n",
    "filename = 'sca3.jpg'\n",
    "\n",
    "img = cv2.imread(f'{rel_dir}/{filename}')\n",
    "digits = crop_number(img.copy(), True)"
   ]
  },
  {
   "cell_type": "code",
   "execution_count": null,
   "metadata": {},
   "outputs": [],
   "source": [
    "labelled_digits, labels = manual_label(digits[50:75])"
   ]
  },
  {
   "cell_type": "code",
   "execution_count": null,
   "metadata": {},
   "outputs": [],
   "source": [
    "final_digits = transform_cropped_digit(labelled_digits, labels)\n",
    "display_digits_line(final_digits, labels, '', len(labels))"
   ]
  },
  {
   "cell_type": "code",
   "execution_count": null,
   "metadata": {},
   "outputs": [],
   "source": [
    "save_label_digit(final_digits, labels)"
   ]
  }
 ],
 "metadata": {
  "kernelspec": {
   "display_name": "Python 3 (ipykernel)",
   "language": "python",
   "name": "python3"
  },
  "language_info": {
   "codemirror_mode": {
    "name": "ipython",
    "version": 3
   },
   "file_extension": ".py",
   "mimetype": "text/x-python",
   "name": "python",
   "nbconvert_exporter": "python",
   "pygments_lexer": "ipython3",
   "version": "3.10.2"
  },
  "vscode": {
   "interpreter": {
    "hash": "2324a66782fee6ab9f0bdb3c9e79ee636ed86487484f245c4444858429ce7730"
   }
  }
 },
 "nbformat": 4,
 "nbformat_minor": 2
}
