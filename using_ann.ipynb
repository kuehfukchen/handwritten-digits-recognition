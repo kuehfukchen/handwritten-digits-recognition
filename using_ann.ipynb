{
 "cells": [
  {
   "cell_type": "code",
   "execution_count": 1,
   "metadata": {},
   "outputs": [],
   "source": [
    "import matplotlib.pyplot as plt\n",
    "from sklearn import datasets, metrics\n",
    "import tensorflow as tf\n",
    "import numpy as np\n",
    "pre_trained_model = tf.keras.models.load_model('saved_model/my_model')"
   ]
  },
  {
   "cell_type": "code",
   "execution_count": 2,
   "metadata": {},
   "outputs": [
    {
     "data": {
      "text/plain": [
       "<matplotlib.image.AxesImage at 0x27b059e4c10>"
      ]
     },
     "execution_count": 2,
     "metadata": {},
     "output_type": "execute_result"
    },
    {
     "data": {
      "image/png": "[encoded data removed]",
      "text/plain": [
       "<Figure size 432x288 with 1 Axes>"
      ]
     },
     "metadata": {
      "needs_background": "light"
     },
     "output_type": "display_data"
    }
   ],
   "source": [
    "digits = datasets.load_digits()\n",
    "digit, target = digits.images[0], digits.target[0]\n",
    "plt.imshow(digit, cmap=plt.cm.gray_r)"
   ]
  },
  {
   "cell_type": "code",
   "execution_count": 3,
   "metadata": {},
   "outputs": [
    {
     "data": {
      "text/plain": [
       "<matplotlib.image.AxesImage at 0x27b06fb80d0>"
      ]
     },
     "execution_count": 3,
     "metadata": {},
     "output_type": "execute_result"
    },
    {
     "data": {
      "image/png": "[encoded data removed]",
      "text/plain": [
       "<Figure size 432x288 with 1 Axes>"
      ]
     },
     "metadata": {
      "needs_background": "light"
     },
     "output_type": "display_data"
    }
   ],
   "source": [
    "digit = digits.images[0]\n",
    "digit = tf.constant(digit)\n",
    "digit = np.pad(digit, 2)\n",
    "# Add \"batch\" and \"channels\" dimensions\n",
    "digit = digit[tf.newaxis, ..., tf.newaxis]\n",
    "digit = tf.image.resize(digit, (28,28))\n",
    "digit = digit.numpy()[0].reshape((28,28))\n",
    "plt.imshow(digit, cmap=plt.cm.gray_r)"
   ]
  },
  {
   "cell_type": "code",
   "execution_count": 4,
   "metadata": {},
   "outputs": [
    {
     "data": {
      "text/plain": [
       "(1, 784)"
      ]
     },
     "execution_count": 4,
     "metadata": {},
     "output_type": "execute_result"
    }
   ],
   "source": [
    "digit, target = digits.images[0], digits.target[0]\n",
    "digit = np.pad(digit, 2)\n",
    "digit = tf.constant(digit)\n",
    "# Add \"batch\" and \"channels\" dimensions\n",
    "digit = digit[tf.newaxis, ..., tf.newaxis]\n",
    "digit = tf.image.resize(digit, (28,28))\n",
    "digit = digit.numpy().reshape((1,28*28))\n",
    "digit.shape"
   ]
  },
  {
   "cell_type": "code",
   "execution_count": 5,
   "metadata": {},
   "outputs": [],
   "source": [
    "fn = lambda img : np.pad(img, 2)\n",
    "digits.images = np.array([fn(img) for img in digits.images ])"
   ]
  },
  {
   "cell_type": "code",
   "execution_count": 6,
   "metadata": {},
   "outputs": [
    {
     "name": "stdout",
     "output_type": "stream",
     "text": [
      "1/1 [==============================] - 0s 237ms/step\n"
     ]
    },
    {
     "data": {
      "text/plain": [
       "True"
      ]
     },
     "execution_count": 6,
     "metadata": {},
     "output_type": "execute_result"
    }
   ],
   "source": [
    "pred = np.argmax(pre_trained_model.predict(digit))\n",
    "pred == target"
   ]
  },
  {
   "cell_type": "code",
   "execution_count": 7,
   "metadata": {},
   "outputs": [],
   "source": [
    "def transform_input(method = 'bilinear', pad_width = 0):\n",
    "    digits = datasets.load_digits()\n",
    "    digits, labels = digits.images, digits.target\n",
    "    fn = lambda img : np.pad(img, pad_width)\n",
    "    digits= np.array([fn(img) for img in digits])\n",
    "    digits = tf.constant(digits)\n",
    "    digits = digits[..., tf.newaxis]\n",
    "    digits = tf.image.resize(digits, (28,28))\n",
    "    digits = digits.numpy()\n",
    "    digits = digits.reshape(-1,28*28)\n",
    "    return digits, labels"
   ]
  },
  {
   "cell_type": "code",
   "execution_count": 8,
   "metadata": {},
   "outputs": [
    {
     "data": {
      "text/plain": [
       "(1797, 784)"
      ]
     },
     "execution_count": 8,
     "metadata": {},
     "output_type": "execute_result"
    }
   ],
   "source": [
    "digits, labels = transform_input()\n",
    "digits.shape"
   ]
  },
  {
   "cell_type": "code",
   "execution_count": 9,
   "metadata": {},
   "outputs": [
    {
     "data": {
      "text/plain": [
       "['bilinear',\n",
       " 'bicubic',\n",
       " 'area',\n",
       " 'lanczos3',\n",
       " 'lanczos5',\n",
       " 'gaussian',\n",
       " 'mitchellcubic']"
      ]
     },
     "execution_count": 9,
     "metadata": {},
     "output_type": "execute_result"
    }
   ],
   "source": [
    "resize_methods = tf.image.ResizeMethod.__dict__\n",
    "resize_methods = [v for k,v in resize_methods.items() if '_' not in k]\n",
    "resize_methods"
   ]
  },
  {
   "cell_type": "code",
   "execution_count": 10,
   "metadata": {},
   "outputs": [
    {
     "name": "stdout",
     "output_type": "stream",
     "text": [
      "1/1 [==============================] - 0s 217ms/step\n",
      "bilinear 0.5203116304952699\n",
      "1/1 [==============================] - 0s 201ms/step\n",
      "bicubic 0.5203116304952699\n",
      "1/1 [==============================] - 0s 208ms/step\n",
      "area 0.5203116304952699\n",
      "1/1 [==============================] - 0s 209ms/step\n",
      "lanczos3 0.5203116304952699\n",
      "1/1 [==============================] - 0s 227ms/step\n",
      "lanczos5 0.5203116304952699\n",
      "1/1 [==============================] - 0s 234ms/step\n",
      "gaussian 0.5203116304952699\n",
      "1/1 [==============================] - 0s 213ms/step\n",
      "mitchellcubic 0.5203116304952699\n"
     ]
    }
   ],
   "source": [
    "for method in resize_methods:\n",
    "    digits,labels = transform_input(method)\n",
    "    probabilities = pre_trained_model.predict(digits, steps=1)\n",
    "    predicted_labels = np.argmax(probabilities, axis=1)\n",
    "    res = predicted_labels == labels\n",
    "    print(method, sum(res) / res.shape[0])"
   ]
  },
  {
   "cell_type": "code",
   "execution_count": 11,
   "metadata": {},
   "outputs": [
    {
     "name": "stdout",
     "output_type": "stream",
     "text": [
      "1/1 [==============================] - 0s 202ms/step\n",
      "0 0.5203116304952699\n",
      "1/1 [==============================] - 0s 217ms/step\n",
      "1 0.6204785754034502\n",
      "1/1 [==============================] - 0s 222ms/step\n",
      "2 0.6154702281580412\n",
      "1/1 [==============================] - 0s 208ms/step\n",
      "3 0.6188091263216472\n",
      "1/1 [==============================] - 0s 202ms/step\n",
      "4 0.5943238731218697\n",
      "1/1 [==============================] - 0s 206ms/step\n",
      "5 0.5392320534223706\n",
      "1/1 [==============================] - 0s 219ms/step\n",
      "6 0.3528102392877017\n",
      "1/1 [==============================] - 0s 203ms/step\n",
      "7 0.26822481914301616\n",
      "1/1 [==============================] - 0s 212ms/step\n",
      "8 0.2921535893155259\n",
      "1/1 [==============================] - 0s 204ms/step\n",
      "9 0.2659988870339455\n"
     ]
    }
   ],
   "source": [
    "for p in range(10) :\n",
    "    digits,labels = transform_input(pad_width=p)\n",
    "    probabilities = pre_trained_model.predict(digits, steps=1)\n",
    "    predicted_labels = np.argmax(probabilities, axis=1)\n",
    "    res = predicted_labels == labels\n",
    "    print(p, sum(res) / res.shape[0])"
   ]
  }
 ],
 "metadata": {
  "kernelspec": {
   "display_name": "Python 3.10.2 64-bit",
   "language": "python",
   "name": "python3"
  },
  "language_info": {
   "codemirror_mode": {
    "name": "ipython",
    "version": 3
   },
   "file_extension": ".py",
   "mimetype": "text/x-python",
   "name": "python",
   "nbconvert_exporter": "python",
   "pygments_lexer": "ipython3",
   "version": "3.10.2"
  },
  "orig_nbformat": 4,
  "vscode": {
   "interpreter": {
    "hash": "2324a66782fee6ab9f0bdb3c9e79ee636ed86487484f245c4444858429ce7730"
   }
  }
 },
 "nbformat": 4,
 "nbformat_minor": 2
}
