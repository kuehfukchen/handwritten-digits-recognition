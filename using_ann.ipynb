{
 "cells": [
  {
   "cell_type": "code",
   "execution_count": null,
   "metadata": {},
   "outputs": [],
   "source": [
    "import matplotlib.pyplot as plt\n",
    "from sklearn import datasets, metrics\n",
    "import tensorflow as tf\n",
    "import numpy as np\n",
    "pre_trained_model = tf.keras.models.load_model('saved_model/my_model')"
   ]
  },
  {
   "cell_type": "code",
   "execution_count": null,
   "metadata": {},
   "outputs": [],
   "source": [
    "digits = datasets.load_digits()\n",
    "\n",
    "_, axes = plt.subplots(nrows=1, ncols=4, figsize=(10, 3))\n",
    "for ax, image, label in zip(axes, digits.images, digits.target):\n",
    "    ax.set_axis_off()\n",
    "    ax.imshow(image, cmap=plt.cm.gray_r, interpolation=\"nearest\")\n",
    "    ax.set_title(f\"Training: {label}\")"
   ]
  },
  {
   "cell_type": "code",
   "execution_count": null,
   "metadata": {},
   "outputs": [],
   "source": [
    "model = tf.keras.models.load_model('saved_model/my_model')"
   ]
  },
  {
   "cell_type": "code",
   "execution_count": null,
   "metadata": {},
   "outputs": [],
   "source": [
    "digits = datasets.load_digits()\n",
    "digit, target = digits.images[0], digits.target[0]\n",
    "digit = tf.constant(digit)\n",
    "# Add \"batch\" and \"channels\" dimensions\n",
    "digit = digit[tf.newaxis, ..., tf.newaxis]\n",
    "digit = tf.image.resize(digit, (28,28))\n",
    "digit = digit.numpy()[0].reshape((28,28))\n",
    "plt.imshow(digit, cmap=plt.cm.gray_r)"
   ]
  },
  {
   "cell_type": "code",
   "execution_count": null,
   "metadata": {},
   "outputs": [],
   "source": [
    "digit, target = digits.images[0], digits.target[0]\n",
    "digit = tf.constant(digit)\n",
    "# Add \"batch\" and \"channels\" dimensions\n",
    "digit = digit[tf.newaxis, ..., tf.newaxis]\n",
    "digit = tf.image.resize(digit, (28,28))\n",
    "digit = digit.numpy().reshape((1,28*28))\n",
    "digit.shape"
   ]
  },
  {
   "cell_type": "code",
   "execution_count": null,
   "metadata": {},
   "outputs": [],
   "source": [
    "pred = np.argmax(model.predict(digit))\n",
    "pred == target"
   ]
  },
  {
   "cell_type": "code",
   "execution_count": null,
   "metadata": {},
   "outputs": [],
   "source": [
    "def transform_input(method = 'bilinear'):\n",
    "    digits = datasets.load_digits()\n",
    "    digits, labels = digits.images, digits.target\n",
    "    digits = tf.constant(digits)\n",
    "    digits = digits[..., tf.newaxis]\n",
    "    digits = tf.image.resize(digits, (28,28))\n",
    "    digits = digits.numpy()\n",
    "    digits = digits.reshape(-1,28*28)\n",
    "    return digits, labels"
   ]
  },
  {
   "cell_type": "code",
   "execution_count": null,
   "metadata": {},
   "outputs": [],
   "source": [
    "digits, labels = transform_input()\n",
    "digits.shape"
   ]
  },
  {
   "cell_type": "code",
   "execution_count": null,
   "metadata": {},
   "outputs": [],
   "source": [
    "resize_methods = tf.image.ResizeMethod.__dict__\n",
    "resize_methods = [v for k,v in resize_methods.items() if '_' not in k]\n",
    "resize_methods"
   ]
  },
  {
   "cell_type": "code",
   "execution_count": null,
   "metadata": {},
   "outputs": [],
   "source": [
    "for method in resize_methods:\n",
    "    digits,labels = transform_input(method)\n",
    "    probabilities = model.predict(digits, steps=1)\n",
    "    predicted_labels = np.argmax(probabilities, axis=1)\n",
    "    res = predicted_labels == labels\n",
    "    print(method, sum(res) / res.shape[0])"
   ]
  }
 ],
 "metadata": {
  "kernelspec": {
   "display_name": "Python 3.10.2 64-bit",
   "language": "python",
   "name": "python3"
  },
  "language_info": {
   "codemirror_mode": {
    "name": "ipython",
    "version": 3
   },
   "file_extension": ".py",
   "mimetype": "text/x-python",
   "name": "python",
   "nbconvert_exporter": "python",
   "pygments_lexer": "ipython3",
   "version": "3.10.2 (tags/v3.10.2:a58ebcc, Jan 17 2022, 14:12:15) [MSC v.1929 64 bit (AMD64)]"
  },
  "orig_nbformat": 4,
  "vscode": {
   "interpreter": {
    "hash": "2324a66782fee6ab9f0bdb3c9e79ee636ed86487484f245c4444858429ce7730"
   }
  }
 },
 "nbformat": 4,
 "nbformat_minor": 2
}
