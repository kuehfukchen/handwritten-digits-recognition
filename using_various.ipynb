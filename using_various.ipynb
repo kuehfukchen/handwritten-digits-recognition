{
 "cells": [
  {
   "cell_type": "code",
   "execution_count": 16,
   "metadata": {},
   "outputs": [],
   "source": [
    "import joblib\n",
    "\n",
    "import numpy as np\n",
    "import matplotlib.pyplot as plt\n",
    "\n",
    "import sklearn as sk\n",
    "from sklearn import datasets, metrics\n",
    "from sklearn.neighbors import KNeighborsClassifier\n",
    "from sklearn.model_selection import train_test_split, GridSearchCV\n",
    "from sklearn import svm\n",
    "from sklearn.ensemble import RandomForestClassifier\n",
    "\n",
    "from skimage.transform import resize\n",
    "\n",
    "from functools import reduce\n",
    "from operator import mul\n",
    "flatten_dim = lambda x : reduce(mul, x.shape[1:3])"
   ]
  },
  {
   "attachments": {},
   "cell_type": "markdown",
   "metadata": {},
   "source": [
    "# KNN"
   ]
  },
  {
   "cell_type": "code",
   "execution_count": 3,
   "metadata": {},
   "outputs": [
    {
     "data": {
      "text/plain": [
       "[(5000, 784), (5000,), (1000, 784), (1000,)]"
      ]
     },
     "execution_count": 3,
     "metadata": {},
     "output_type": "execute_result"
    }
   ],
   "source": [
    "import mnist\n",
    "\n",
    "sz = 5000\n",
    "idx = np.random.choice(range(mnist.TRAIN_SIZE), sz)\n",
    "train_X, train_y = (samp[idx] for samp in mnist.extract_train())\n",
    "\n",
    "sz = 1000\n",
    "idx = np.random.choice(range(mnist.TEST_SIZE),sz)\n",
    "test_X, test_y = (samp[idx] for samp in mnist.extract_test())\n",
    "\n",
    "train_X = train_X.reshape(-1,flatten_dim(train_X))\n",
    "test_X = test_X.reshape(-1,flatten_dim(test_X))\n",
    "\n",
    "[x.shape for x in [train_X, train_y, test_X, test_y]]"
   ]
  },
  {
   "cell_type": "code",
   "execution_count": 4,
   "metadata": {},
   "outputs": [
    {
     "data": {
      "text/plain": [
       "{'metric': 'cosine', 'n_neighbors': 5, 'weights': 'distance'}"
      ]
     },
     "execution_count": 4,
     "metadata": {},
     "output_type": "execute_result"
    }
   ],
   "source": [
    "knn_params = {\n",
    "    'metric' : ['cosine','minkowski'],\n",
    "    'n_neighbors' : range(1,15,2),\n",
    "    'weights': ['uniform', 'distance']\n",
    "}\n",
    "knn = GridSearchCV(KNeighborsClassifier(), knn_params).fit(train_X, train_y)\n",
    "knn.best_params_"
   ]
  },
  {
   "attachments": {},
   "cell_type": "markdown",
   "metadata": {},
   "source": [
    "Cosine distance metric:\n",
    "$$\n",
    "A\\cdot B = \\| A \\| \\| B \\| \\cos \\theta\n",
    "$$"
   ]
  },
  {
   "cell_type": "code",
   "execution_count": 5,
   "metadata": {},
   "outputs": [
    {
     "data": {
      "text/plain": [
       "{'algorithm': 'auto',\n",
       " 'leaf_size': 30,\n",
       " 'metric': 'minkowski',\n",
       " 'metric_params': None,\n",
       " 'n_jobs': None,\n",
       " 'n_neighbors': 5,\n",
       " 'p': 2,\n",
       " 'weights': 'uniform'}"
      ]
     },
     "execution_count": 5,
     "metadata": {},
     "output_type": "execute_result"
    }
   ],
   "source": [
    "train_acc = [0]\n",
    "valid_acc = [0]\n",
    "k_range = range(1,30) \n",
    "for k in k_range:\n",
    "    model = KNeighborsClassifier(n_neighbors=k, weights='distance').fit(train_X, train_y)\n",
    "    train_acc.append(model.score(train_X, train_y))\n",
    "    valid_acc.append(model.score(test_X, test_y))\n",
    "\n",
    "minkowski_knn = KNeighborsClassifier(n_neighbors=np.argmax(valid_acc)).fit(train_X, train_y)\n",
    "minkowski_knn.get_params()"
   ]
  },
  {
   "cell_type": "code",
   "execution_count": 6,
   "metadata": {},
   "outputs": [
    {
     "data": {
      "image/png": "[encoded data removed]",
      "text/plain": [
       "<Figure size 1224x504 with 1 Axes>"
      ]
     },
     "metadata": {
      "needs_background": "light"
     },
     "output_type": "display_data"
    }
   ],
   "source": [
    "plt.figure(figsize=(17,7))\n",
    "plt.plot(k_range, train_acc[1:], label = 'accuracy')\n",
    "plt.plot(k_range, valid_acc[1:], label = 'validation')\n",
    "best_k = np.argmax(valid_acc)\n",
    "plt.axvline(x = best_k, color='red', label = f'k={best_k}', linestyle='dashed')\n",
    "plt.axhline(y = valid_acc[best_k], color = 'black', linestyle = 'dashed')\n",
    "plt.legend();"
   ]
  },
  {
   "cell_type": "code",
   "execution_count": 7,
   "metadata": {},
   "outputs": [
    {
     "data": {
      "text/plain": [
       "(1.0, 0.9566)"
      ]
     },
     "execution_count": 7,
     "metadata": {},
     "output_type": "execute_result"
    }
   ],
   "source": [
    "knn.score(train_X, train_y), minkowski_knn.score(train_X, train_y)"
   ]
  },
  {
   "cell_type": "code",
   "execution_count": 8,
   "metadata": {},
   "outputs": [
    {
     "data": {
      "text/plain": [
       "(0.949, 0.942)"
      ]
     },
     "execution_count": 8,
     "metadata": {},
     "output_type": "execute_result"
    }
   ],
   "source": [
    "knn.score(test_X, test_y), minkowski_knn.score(test_X, test_y)"
   ]
  },
  {
   "attachments": {},
   "cell_type": "markdown",
   "metadata": {},
   "source": [
    "# Example Prediction"
   ]
  },
  {
   "cell_type": "code",
   "execution_count": 9,
   "metadata": {},
   "outputs": [
    {
     "data": {
      "text/plain": [
       "(array([6, 6, 6, 4, 5, 5, 5, 8, 4, 4], dtype=int64),\n",
       " array([6, 6, 6, 4, 5, 5, 5, 3, 4, 4], dtype=int64))"
      ]
     },
     "execution_count": 9,
     "metadata": {},
     "output_type": "execute_result"
    }
   ],
   "source": [
    "test_y[:10], minkowski_knn.predict(test_X[:10])"
   ]
  },
  {
   "cell_type": "code",
   "execution_count": 10,
   "metadata": {},
   "outputs": [
    {
     "data": {
      "text/plain": [
       "(array([6, 6, 6, 4, 5, 5, 5, 8, 4, 4], dtype=int64),\n",
       " array([6, 6, 6, 4, 5, 5, 5, 3, 4, 4], dtype=int64))"
      ]
     },
     "execution_count": 10,
     "metadata": {},
     "output_type": "execute_result"
    }
   ],
   "source": [
    "test_y[:10], knn.predict(test_X[:10])"
   ]
  },
  {
   "cell_type": "code",
   "execution_count": 11,
   "metadata": {},
   "outputs": [
    {
     "data": {
      "image/png": "[encoded data removed]",
      "text/plain": [
       "<Figure size 432x288 with 1 Axes>"
      ]
     },
     "metadata": {
      "needs_background": "light"
     },
     "output_type": "display_data"
    }
   ],
   "source": [
    "from skimage.transform import resize\n",
    "digits = datasets.load_digits()\n",
    "X, y = digits.images, digits.target\n",
    "trans_fn = lambda img : resize(np.pad(img, 2), (28,28))\n",
    "X = np.array(list(map(trans_fn, X)))\n",
    "plt.axis('off'); plt.imshow(X[0], cmap='gray')\n",
    "X = X.reshape(-1,flatten_dim(X))"
   ]
  },
  {
   "cell_type": "code",
   "execution_count": 12,
   "metadata": {},
   "outputs": [
    {
     "data": {
      "text/plain": [
       "(0.6043405676126878, 0.10127991096271564)"
      ]
     },
     "execution_count": 12,
     "metadata": {},
     "output_type": "execute_result"
    }
   ],
   "source": [
    "knn.score(X, y), minkowski_knn.score(X, y)"
   ]
  },
  {
   "cell_type": "code",
   "execution_count": 13,
   "metadata": {},
   "outputs": [
    {
     "data": {
      "text/plain": [
       "0.6043405676126878"
      ]
     },
     "execution_count": 13,
     "metadata": {},
     "output_type": "execute_result"
    }
   ],
   "source": [
    "metrics.accuracy_score(y, knn.predict(X))"
   ]
  },
  {
   "attachments": {},
   "cell_type": "markdown",
   "metadata": {},
   "source": [
    "# SVM"
   ]
  },
  {
   "cell_type": "code",
   "execution_count": 14,
   "metadata": {},
   "outputs": [],
   "source": [
    "# Create a classifier: a support vector classifier\n",
    "# svm_model = svm.SVC().fit(train_X, train_y)\n",
    "# joblib.dump(svm_model, \"svm_digit_model2.joblib\")\n",
    "svm_model = joblib.load(\"svm_digit_model2.joblib\")"
   ]
  },
  {
   "cell_type": "code",
   "execution_count": 15,
   "metadata": {},
   "outputs": [
    {
     "data": {
      "text/plain": [
       "(0.10127991096271564, 0.968, 0.949)"
      ]
     },
     "execution_count": 15,
     "metadata": {},
     "output_type": "execute_result"
    }
   ],
   "source": [
    "svm_model.score(X,y), svm_model.score(test_X, test_y), svm_model.score(train_X, train_y)"
   ]
  },
  {
   "attachments": {},
   "cell_type": "markdown",
   "metadata": {},
   "source": [
    "# Random Forest"
   ]
  },
  {
   "cell_type": "code",
   "execution_count": 22,
   "metadata": {},
   "outputs": [
    {
     "data": {
      "text/plain": [
       "(0.2815804117974402, 0.957, 1.0)"
      ]
     },
     "execution_count": 22,
     "metadata": {},
     "output_type": "execute_result"
    }
   ],
   "source": [
    "rdm_forest = RandomForestClassifier(n_estimators=300).fit(train_X, train_y)\n",
    "rdm_forest.score(X,y), rdm_forest.score(test_X, test_y), rdm_forest.score(train_X, train_y)"
   ]
  }
 ],
 "metadata": {
  "kernelspec": {
   "display_name": "Python 3",
   "language": "python",
   "name": "python3"
  },
  "language_info": {
   "codemirror_mode": {
    "name": "ipython",
    "version": 3
   },
   "file_extension": ".py",
   "mimetype": "text/x-python",
   "name": "python",
   "nbconvert_exporter": "python",
   "pygments_lexer": "ipython3",
   "version": "3.10.2 (tags/v3.10.2:a58ebcc, Jan 17 2022, 14:12:15) [MSC v.1929 64 bit (AMD64)]"
  },
  "orig_nbformat": 4,
  "vscode": {
   "interpreter": {
    "hash": "2324a66782fee6ab9f0bdb3c9e79ee636ed86487484f245c4444858429ce7730"
   }
  }
 },
 "nbformat": 4,
 "nbformat_minor": 2
}
